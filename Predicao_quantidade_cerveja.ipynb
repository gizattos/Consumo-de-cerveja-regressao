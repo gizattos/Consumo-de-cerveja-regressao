{
  "nbformat": 4,
  "nbformat_minor": 0,
  "metadata": {
    "colab": {
      "name": "Predicao_quantidade_cerveja.ipynb",
      "provenance": [],
      "collapsed_sections": [],
      "authorship_tag": "ABX9TyPbwhWEfFvjULxHgW6TfghL",
      "include_colab_link": true
    },
    "kernelspec": {
      "name": "python3",
      "display_name": "Python 3"
    }
  },
  "cells": [
    {
      "cell_type": "markdown",
      "metadata": {
        "id": "view-in-github",
        "colab_type": "text"
      },
      "source": [
        "<a href=\"https://colab.research.google.com/github/gizattos/beer_consumption_regression/blob/master/Predicao_quantidade_cerveja.ipynb\" target=\"_parent\"><img src=\"https://colab.research.google.com/assets/colab-badge.svg\" alt=\"Open In Colab\"/></a>"
      ]
    },
    {
      "cell_type": "markdown",
      "metadata": {
        "id": "Ti1jI2OZXqeM",
        "colab_type": "text"
      },
      "source": [
        "Utilizando o dataset \"Beer Consumption - São Paulo\" crie um modelo para prever a quantidade de cerveja que será consumida, para esse trabalho, desconsidere a variável independente 'data'. Discuta sobre a tarefa, o dataset, valores nulos, feature engineering, escolha do modelo, métrica de erro, complexidade vs erro, overfitting e underfitting."
      ]
    },
    {
      "cell_type": "code",
      "metadata": {
        "id": "DuRgT_i3XJOg",
        "colab_type": "code",
        "colab": {}
      },
      "source": [
        "## importando bibliotecas\n",
        "import seaborn as sns\n",
        "import matplotlib.pyplot as plt\n",
        "import pandas as pd\n",
        "import sklearn\n",
        "import numpy as np\n",
        "from sklearn.linear_model import LinearRegression\n",
        "from sklearn.model_selection import train_test_split\n",
        "from sklearn.metrics import mean_squared_error\n",
        "from sklearn.metrics import r2_score"
      ],
      "execution_count": 0,
      "outputs": []
    },
    {
      "cell_type": "markdown",
      "metadata": {
        "id": "OcD7yKIeXzGG",
        "colab_type": "text"
      },
      "source": [
        "<h2>Lendo CSV</h2>"
      ]
    },
    {
      "cell_type": "code",
      "metadata": {
        "id": "uwEzTpKMX2sM",
        "colab_type": "code",
        "colab": {}
      },
      "source": [
        "df = pd.read_csv('/content/Consumo_cerveja.csv')"
      ],
      "execution_count": 0,
      "outputs": []
    },
    {
      "cell_type": "markdown",
      "metadata": {
        "id": "YJMBR4_raMDs",
        "colab_type": "text"
      },
      "source": [
        "<h2>Explorando e realizando o pré-processamento dos dados</h2>"
      ]
    },
    {
      "cell_type": "code",
      "metadata": {
        "id": "LT-5Z_1yX_x3",
        "colab_type": "code",
        "outputId": "2db60275-9a05-4337-e1d1-37b381cee551",
        "colab": {
          "base_uri": "https://localhost:8080/",
          "height": 419
        }
      },
      "source": [
        "df"
      ],
      "execution_count": 500,
      "outputs": [
        {
          "output_type": "execute_result",
          "data": {
            "text/html": [
              "<div>\n",
              "<style scoped>\n",
              "    .dataframe tbody tr th:only-of-type {\n",
              "        vertical-align: middle;\n",
              "    }\n",
              "\n",
              "    .dataframe tbody tr th {\n",
              "        vertical-align: top;\n",
              "    }\n",
              "\n",
              "    .dataframe thead th {\n",
              "        text-align: right;\n",
              "    }\n",
              "</style>\n",
              "<table border=\"1\" class=\"dataframe\">\n",
              "  <thead>\n",
              "    <tr style=\"text-align: right;\">\n",
              "      <th></th>\n",
              "      <th>Data</th>\n",
              "      <th>Temperatura Media (C)</th>\n",
              "      <th>Temperatura Minima (C)</th>\n",
              "      <th>Temperatura Maxima (C)</th>\n",
              "      <th>Precipitacao (mm)</th>\n",
              "      <th>Final de Semana</th>\n",
              "      <th>Consumo de cerveja (litros)</th>\n",
              "    </tr>\n",
              "  </thead>\n",
              "  <tbody>\n",
              "    <tr>\n",
              "      <th>0</th>\n",
              "      <td>2015-01-01</td>\n",
              "      <td>27,3</td>\n",
              "      <td>23,9</td>\n",
              "      <td>32,5</td>\n",
              "      <td>0</td>\n",
              "      <td>0.0</td>\n",
              "      <td>25.461</td>\n",
              "    </tr>\n",
              "    <tr>\n",
              "      <th>1</th>\n",
              "      <td>2015-01-02</td>\n",
              "      <td>27,02</td>\n",
              "      <td>24,5</td>\n",
              "      <td>33,5</td>\n",
              "      <td>0</td>\n",
              "      <td>0.0</td>\n",
              "      <td>28.972</td>\n",
              "    </tr>\n",
              "    <tr>\n",
              "      <th>2</th>\n",
              "      <td>2015-01-03</td>\n",
              "      <td>24,82</td>\n",
              "      <td>22,4</td>\n",
              "      <td>29,9</td>\n",
              "      <td>0</td>\n",
              "      <td>1.0</td>\n",
              "      <td>30.814</td>\n",
              "    </tr>\n",
              "    <tr>\n",
              "      <th>3</th>\n",
              "      <td>2015-01-04</td>\n",
              "      <td>23,98</td>\n",
              "      <td>21,5</td>\n",
              "      <td>28,6</td>\n",
              "      <td>1,2</td>\n",
              "      <td>1.0</td>\n",
              "      <td>29.799</td>\n",
              "    </tr>\n",
              "    <tr>\n",
              "      <th>4</th>\n",
              "      <td>2015-01-05</td>\n",
              "      <td>23,82</td>\n",
              "      <td>21</td>\n",
              "      <td>28,3</td>\n",
              "      <td>0</td>\n",
              "      <td>0.0</td>\n",
              "      <td>28.900</td>\n",
              "    </tr>\n",
              "    <tr>\n",
              "      <th>...</th>\n",
              "      <td>...</td>\n",
              "      <td>...</td>\n",
              "      <td>...</td>\n",
              "      <td>...</td>\n",
              "      <td>...</td>\n",
              "      <td>...</td>\n",
              "      <td>...</td>\n",
              "    </tr>\n",
              "    <tr>\n",
              "      <th>936</th>\n",
              "      <td>NaN</td>\n",
              "      <td>NaN</td>\n",
              "      <td>NaN</td>\n",
              "      <td>NaN</td>\n",
              "      <td>NaN</td>\n",
              "      <td>NaN</td>\n",
              "      <td>NaN</td>\n",
              "    </tr>\n",
              "    <tr>\n",
              "      <th>937</th>\n",
              "      <td>NaN</td>\n",
              "      <td>NaN</td>\n",
              "      <td>NaN</td>\n",
              "      <td>NaN</td>\n",
              "      <td>NaN</td>\n",
              "      <td>NaN</td>\n",
              "      <td>NaN</td>\n",
              "    </tr>\n",
              "    <tr>\n",
              "      <th>938</th>\n",
              "      <td>NaN</td>\n",
              "      <td>NaN</td>\n",
              "      <td>NaN</td>\n",
              "      <td>NaN</td>\n",
              "      <td>NaN</td>\n",
              "      <td>NaN</td>\n",
              "      <td>NaN</td>\n",
              "    </tr>\n",
              "    <tr>\n",
              "      <th>939</th>\n",
              "      <td>NaN</td>\n",
              "      <td>NaN</td>\n",
              "      <td>NaN</td>\n",
              "      <td>NaN</td>\n",
              "      <td>NaN</td>\n",
              "      <td>NaN</td>\n",
              "      <td>NaN</td>\n",
              "    </tr>\n",
              "    <tr>\n",
              "      <th>940</th>\n",
              "      <td>NaN</td>\n",
              "      <td>NaN</td>\n",
              "      <td>NaN</td>\n",
              "      <td>NaN</td>\n",
              "      <td>NaN</td>\n",
              "      <td>NaN</td>\n",
              "      <td>NaN</td>\n",
              "    </tr>\n",
              "  </tbody>\n",
              "</table>\n",
              "<p>941 rows × 7 columns</p>\n",
              "</div>"
            ],
            "text/plain": [
              "           Data  ... Consumo de cerveja (litros)\n",
              "0    2015-01-01  ...                      25.461\n",
              "1    2015-01-02  ...                      28.972\n",
              "2    2015-01-03  ...                      30.814\n",
              "3    2015-01-04  ...                      29.799\n",
              "4    2015-01-05  ...                      28.900\n",
              "..          ...  ...                         ...\n",
              "936         NaN  ...                         NaN\n",
              "937         NaN  ...                         NaN\n",
              "938         NaN  ...                         NaN\n",
              "939         NaN  ...                         NaN\n",
              "940         NaN  ...                         NaN\n",
              "\n",
              "[941 rows x 7 columns]"
            ]
          },
          "metadata": {
            "tags": []
          },
          "execution_count": 500
        }
      ]
    },
    {
      "cell_type": "code",
      "metadata": {
        "id": "OuW6EyalhE6s",
        "colab_type": "code",
        "outputId": "88c3ec5c-a2a2-471a-c15f-a56296793f54",
        "colab": {
          "base_uri": "https://localhost:8080/",
          "height": 255
        }
      },
      "source": [
        "df.info()"
      ],
      "execution_count": 501,
      "outputs": [
        {
          "output_type": "stream",
          "text": [
            "<class 'pandas.core.frame.DataFrame'>\n",
            "RangeIndex: 941 entries, 0 to 940\n",
            "Data columns (total 7 columns):\n",
            " #   Column                       Non-Null Count  Dtype  \n",
            "---  ------                       --------------  -----  \n",
            " 0   Data                         365 non-null    object \n",
            " 1   Temperatura Media (C)        365 non-null    object \n",
            " 2   Temperatura Minima (C)       365 non-null    object \n",
            " 3   Temperatura Maxima (C)       365 non-null    object \n",
            " 4   Precipitacao (mm)            365 non-null    object \n",
            " 5   Final de Semana              365 non-null    float64\n",
            " 6   Consumo de cerveja (litros)  365 non-null    float64\n",
            "dtypes: float64(2), object(5)\n",
            "memory usage: 51.6+ KB\n"
          ],
          "name": "stdout"
        }
      ]
    },
    {
      "cell_type": "code",
      "metadata": {
        "id": "gZjjAG0oZ21s",
        "colab_type": "code",
        "colab": {}
      },
      "source": [
        "## dropando linhas que possuem todos seus valores zerados\t\n",
        "df.dropna(axis=0, how='all', thresh=None, subset=None, inplace=True)"
      ],
      "execution_count": 0,
      "outputs": []
    },
    {
      "cell_type": "code",
      "metadata": {
        "id": "zsSMUHRBaD77",
        "colab_type": "code",
        "outputId": "127319f2-080e-455c-85b4-47655fd9d17b",
        "colab": {
          "base_uri": "https://localhost:8080/",
          "height": 419
        }
      },
      "source": [
        "df"
      ],
      "execution_count": 503,
      "outputs": [
        {
          "output_type": "execute_result",
          "data": {
            "text/html": [
              "<div>\n",
              "<style scoped>\n",
              "    .dataframe tbody tr th:only-of-type {\n",
              "        vertical-align: middle;\n",
              "    }\n",
              "\n",
              "    .dataframe tbody tr th {\n",
              "        vertical-align: top;\n",
              "    }\n",
              "\n",
              "    .dataframe thead th {\n",
              "        text-align: right;\n",
              "    }\n",
              "</style>\n",
              "<table border=\"1\" class=\"dataframe\">\n",
              "  <thead>\n",
              "    <tr style=\"text-align: right;\">\n",
              "      <th></th>\n",
              "      <th>Data</th>\n",
              "      <th>Temperatura Media (C)</th>\n",
              "      <th>Temperatura Minima (C)</th>\n",
              "      <th>Temperatura Maxima (C)</th>\n",
              "      <th>Precipitacao (mm)</th>\n",
              "      <th>Final de Semana</th>\n",
              "      <th>Consumo de cerveja (litros)</th>\n",
              "    </tr>\n",
              "  </thead>\n",
              "  <tbody>\n",
              "    <tr>\n",
              "      <th>0</th>\n",
              "      <td>2015-01-01</td>\n",
              "      <td>27,3</td>\n",
              "      <td>23,9</td>\n",
              "      <td>32,5</td>\n",
              "      <td>0</td>\n",
              "      <td>0.0</td>\n",
              "      <td>25.461</td>\n",
              "    </tr>\n",
              "    <tr>\n",
              "      <th>1</th>\n",
              "      <td>2015-01-02</td>\n",
              "      <td>27,02</td>\n",
              "      <td>24,5</td>\n",
              "      <td>33,5</td>\n",
              "      <td>0</td>\n",
              "      <td>0.0</td>\n",
              "      <td>28.972</td>\n",
              "    </tr>\n",
              "    <tr>\n",
              "      <th>2</th>\n",
              "      <td>2015-01-03</td>\n",
              "      <td>24,82</td>\n",
              "      <td>22,4</td>\n",
              "      <td>29,9</td>\n",
              "      <td>0</td>\n",
              "      <td>1.0</td>\n",
              "      <td>30.814</td>\n",
              "    </tr>\n",
              "    <tr>\n",
              "      <th>3</th>\n",
              "      <td>2015-01-04</td>\n",
              "      <td>23,98</td>\n",
              "      <td>21,5</td>\n",
              "      <td>28,6</td>\n",
              "      <td>1,2</td>\n",
              "      <td>1.0</td>\n",
              "      <td>29.799</td>\n",
              "    </tr>\n",
              "    <tr>\n",
              "      <th>4</th>\n",
              "      <td>2015-01-05</td>\n",
              "      <td>23,82</td>\n",
              "      <td>21</td>\n",
              "      <td>28,3</td>\n",
              "      <td>0</td>\n",
              "      <td>0.0</td>\n",
              "      <td>28.900</td>\n",
              "    </tr>\n",
              "    <tr>\n",
              "      <th>...</th>\n",
              "      <td>...</td>\n",
              "      <td>...</td>\n",
              "      <td>...</td>\n",
              "      <td>...</td>\n",
              "      <td>...</td>\n",
              "      <td>...</td>\n",
              "      <td>...</td>\n",
              "    </tr>\n",
              "    <tr>\n",
              "      <th>360</th>\n",
              "      <td>2015-12-27</td>\n",
              "      <td>24</td>\n",
              "      <td>21,1</td>\n",
              "      <td>28,2</td>\n",
              "      <td>13,6</td>\n",
              "      <td>1.0</td>\n",
              "      <td>32.307</td>\n",
              "    </tr>\n",
              "    <tr>\n",
              "      <th>361</th>\n",
              "      <td>2015-12-28</td>\n",
              "      <td>22,64</td>\n",
              "      <td>21,1</td>\n",
              "      <td>26,7</td>\n",
              "      <td>0</td>\n",
              "      <td>0.0</td>\n",
              "      <td>26.095</td>\n",
              "    </tr>\n",
              "    <tr>\n",
              "      <th>362</th>\n",
              "      <td>2015-12-29</td>\n",
              "      <td>21,68</td>\n",
              "      <td>20,3</td>\n",
              "      <td>24,1</td>\n",
              "      <td>10,3</td>\n",
              "      <td>0.0</td>\n",
              "      <td>22.309</td>\n",
              "    </tr>\n",
              "    <tr>\n",
              "      <th>363</th>\n",
              "      <td>2015-12-30</td>\n",
              "      <td>21,38</td>\n",
              "      <td>19,3</td>\n",
              "      <td>22,4</td>\n",
              "      <td>6,3</td>\n",
              "      <td>0.0</td>\n",
              "      <td>20.467</td>\n",
              "    </tr>\n",
              "    <tr>\n",
              "      <th>364</th>\n",
              "      <td>2015-12-31</td>\n",
              "      <td>24,76</td>\n",
              "      <td>20,2</td>\n",
              "      <td>29</td>\n",
              "      <td>0</td>\n",
              "      <td>0.0</td>\n",
              "      <td>22.446</td>\n",
              "    </tr>\n",
              "  </tbody>\n",
              "</table>\n",
              "<p>365 rows × 7 columns</p>\n",
              "</div>"
            ],
            "text/plain": [
              "           Data  ... Consumo de cerveja (litros)\n",
              "0    2015-01-01  ...                      25.461\n",
              "1    2015-01-02  ...                      28.972\n",
              "2    2015-01-03  ...                      30.814\n",
              "3    2015-01-04  ...                      29.799\n",
              "4    2015-01-05  ...                      28.900\n",
              "..          ...  ...                         ...\n",
              "360  2015-12-27  ...                      32.307\n",
              "361  2015-12-28  ...                      26.095\n",
              "362  2015-12-29  ...                      22.309\n",
              "363  2015-12-30  ...                      20.467\n",
              "364  2015-12-31  ...                      22.446\n",
              "\n",
              "[365 rows x 7 columns]"
            ]
          },
          "metadata": {
            "tags": []
          },
          "execution_count": 503
        }
      ]
    },
    {
      "cell_type": "code",
      "metadata": {
        "id": "wPCJrmpDajDD",
        "colab_type": "code",
        "outputId": "1fee460f-f15c-4257-85f6-9f5d46ef1f0e",
        "colab": {
          "base_uri": "https://localhost:8080/",
          "height": 153
        }
      },
      "source": [
        "## Visualizando se o dataset possui dados faltantes\n",
        "df.isna().sum()"
      ],
      "execution_count": 504,
      "outputs": [
        {
          "output_type": "execute_result",
          "data": {
            "text/plain": [
              "Data                           0\n",
              "Temperatura Media (C)          0\n",
              "Temperatura Minima (C)         0\n",
              "Temperatura Maxima (C)         0\n",
              "Precipitacao (mm)              0\n",
              "Final de Semana                0\n",
              "Consumo de cerveja (litros)    0\n",
              "dtype: int64"
            ]
          },
          "metadata": {
            "tags": []
          },
          "execution_count": 504
        }
      ]
    },
    {
      "cell_type": "code",
      "metadata": {
        "id": "o9ipQ3rraq5K",
        "colab_type": "code",
        "outputId": "842d504c-6d83-47b1-9ff8-aef549488d4a",
        "colab": {
          "base_uri": "https://localhost:8080/",
          "height": 297
        }
      },
      "source": [
        "## Visualizando informações estatísticas sobre as variáveis  \n",
        "df.describe()"
      ],
      "execution_count": 505,
      "outputs": [
        {
          "output_type": "execute_result",
          "data": {
            "text/html": [
              "<div>\n",
              "<style scoped>\n",
              "    .dataframe tbody tr th:only-of-type {\n",
              "        vertical-align: middle;\n",
              "    }\n",
              "\n",
              "    .dataframe tbody tr th {\n",
              "        vertical-align: top;\n",
              "    }\n",
              "\n",
              "    .dataframe thead th {\n",
              "        text-align: right;\n",
              "    }\n",
              "</style>\n",
              "<table border=\"1\" class=\"dataframe\">\n",
              "  <thead>\n",
              "    <tr style=\"text-align: right;\">\n",
              "      <th></th>\n",
              "      <th>Final de Semana</th>\n",
              "      <th>Consumo de cerveja (litros)</th>\n",
              "    </tr>\n",
              "  </thead>\n",
              "  <tbody>\n",
              "    <tr>\n",
              "      <th>count</th>\n",
              "      <td>365.000000</td>\n",
              "      <td>365.000000</td>\n",
              "    </tr>\n",
              "    <tr>\n",
              "      <th>mean</th>\n",
              "      <td>0.284932</td>\n",
              "      <td>25.401367</td>\n",
              "    </tr>\n",
              "    <tr>\n",
              "      <th>std</th>\n",
              "      <td>0.452001</td>\n",
              "      <td>4.399143</td>\n",
              "    </tr>\n",
              "    <tr>\n",
              "      <th>min</th>\n",
              "      <td>0.000000</td>\n",
              "      <td>14.343000</td>\n",
              "    </tr>\n",
              "    <tr>\n",
              "      <th>25%</th>\n",
              "      <td>0.000000</td>\n",
              "      <td>22.008000</td>\n",
              "    </tr>\n",
              "    <tr>\n",
              "      <th>50%</th>\n",
              "      <td>0.000000</td>\n",
              "      <td>24.867000</td>\n",
              "    </tr>\n",
              "    <tr>\n",
              "      <th>75%</th>\n",
              "      <td>1.000000</td>\n",
              "      <td>28.631000</td>\n",
              "    </tr>\n",
              "    <tr>\n",
              "      <th>max</th>\n",
              "      <td>1.000000</td>\n",
              "      <td>37.937000</td>\n",
              "    </tr>\n",
              "  </tbody>\n",
              "</table>\n",
              "</div>"
            ],
            "text/plain": [
              "       Final de Semana  Consumo de cerveja (litros)\n",
              "count       365.000000                   365.000000\n",
              "mean          0.284932                    25.401367\n",
              "std           0.452001                     4.399143\n",
              "min           0.000000                    14.343000\n",
              "25%           0.000000                    22.008000\n",
              "50%           0.000000                    24.867000\n",
              "75%           1.000000                    28.631000\n",
              "max           1.000000                    37.937000"
            ]
          },
          "metadata": {
            "tags": []
          },
          "execution_count": 505
        }
      ]
    },
    {
      "cell_type": "code",
      "metadata": {
        "id": "u-USSV_fcUC5",
        "colab_type": "code",
        "colab": {}
      },
      "source": [
        "## alterando variáveis string para float e alterando separados de casa decimal\n",
        "lista = ['Temperatura Media (C)','Temperatura Minima (C)','Temperatura Maxima (C)','Precipitacao (mm)']\n",
        "for x in lista:\n",
        "  df[x] = df[x].str.replace(',', '.').astype('float')\n",
        "  "
      ],
      "execution_count": 0,
      "outputs": []
    },
    {
      "cell_type": "code",
      "metadata": {
        "id": "6q3j0fu-kGhf",
        "colab_type": "code",
        "colab": {}
      },
      "source": [
        "## alterando data para datetime\n",
        "df['Data'] = pd.to_datetime(df['Data'])"
      ],
      "execution_count": 0,
      "outputs": []
    },
    {
      "cell_type": "code",
      "metadata": {
        "id": "AYM_yG9JdUj9",
        "colab_type": "code",
        "outputId": "b38132bb-ae16-4669-d7ab-eeadac018e0e",
        "colab": {
          "base_uri": "https://localhost:8080/",
          "height": 419
        }
      },
      "source": [
        "df"
      ],
      "execution_count": 508,
      "outputs": [
        {
          "output_type": "execute_result",
          "data": {
            "text/html": [
              "<div>\n",
              "<style scoped>\n",
              "    .dataframe tbody tr th:only-of-type {\n",
              "        vertical-align: middle;\n",
              "    }\n",
              "\n",
              "    .dataframe tbody tr th {\n",
              "        vertical-align: top;\n",
              "    }\n",
              "\n",
              "    .dataframe thead th {\n",
              "        text-align: right;\n",
              "    }\n",
              "</style>\n",
              "<table border=\"1\" class=\"dataframe\">\n",
              "  <thead>\n",
              "    <tr style=\"text-align: right;\">\n",
              "      <th></th>\n",
              "      <th>Data</th>\n",
              "      <th>Temperatura Media (C)</th>\n",
              "      <th>Temperatura Minima (C)</th>\n",
              "      <th>Temperatura Maxima (C)</th>\n",
              "      <th>Precipitacao (mm)</th>\n",
              "      <th>Final de Semana</th>\n",
              "      <th>Consumo de cerveja (litros)</th>\n",
              "    </tr>\n",
              "  </thead>\n",
              "  <tbody>\n",
              "    <tr>\n",
              "      <th>0</th>\n",
              "      <td>2015-01-01</td>\n",
              "      <td>27.30</td>\n",
              "      <td>23.9</td>\n",
              "      <td>32.5</td>\n",
              "      <td>0.0</td>\n",
              "      <td>0.0</td>\n",
              "      <td>25.461</td>\n",
              "    </tr>\n",
              "    <tr>\n",
              "      <th>1</th>\n",
              "      <td>2015-01-02</td>\n",
              "      <td>27.02</td>\n",
              "      <td>24.5</td>\n",
              "      <td>33.5</td>\n",
              "      <td>0.0</td>\n",
              "      <td>0.0</td>\n",
              "      <td>28.972</td>\n",
              "    </tr>\n",
              "    <tr>\n",
              "      <th>2</th>\n",
              "      <td>2015-01-03</td>\n",
              "      <td>24.82</td>\n",
              "      <td>22.4</td>\n",
              "      <td>29.9</td>\n",
              "      <td>0.0</td>\n",
              "      <td>1.0</td>\n",
              "      <td>30.814</td>\n",
              "    </tr>\n",
              "    <tr>\n",
              "      <th>3</th>\n",
              "      <td>2015-01-04</td>\n",
              "      <td>23.98</td>\n",
              "      <td>21.5</td>\n",
              "      <td>28.6</td>\n",
              "      <td>1.2</td>\n",
              "      <td>1.0</td>\n",
              "      <td>29.799</td>\n",
              "    </tr>\n",
              "    <tr>\n",
              "      <th>4</th>\n",
              "      <td>2015-01-05</td>\n",
              "      <td>23.82</td>\n",
              "      <td>21.0</td>\n",
              "      <td>28.3</td>\n",
              "      <td>0.0</td>\n",
              "      <td>0.0</td>\n",
              "      <td>28.900</td>\n",
              "    </tr>\n",
              "    <tr>\n",
              "      <th>...</th>\n",
              "      <td>...</td>\n",
              "      <td>...</td>\n",
              "      <td>...</td>\n",
              "      <td>...</td>\n",
              "      <td>...</td>\n",
              "      <td>...</td>\n",
              "      <td>...</td>\n",
              "    </tr>\n",
              "    <tr>\n",
              "      <th>360</th>\n",
              "      <td>2015-12-27</td>\n",
              "      <td>24.00</td>\n",
              "      <td>21.1</td>\n",
              "      <td>28.2</td>\n",
              "      <td>13.6</td>\n",
              "      <td>1.0</td>\n",
              "      <td>32.307</td>\n",
              "    </tr>\n",
              "    <tr>\n",
              "      <th>361</th>\n",
              "      <td>2015-12-28</td>\n",
              "      <td>22.64</td>\n",
              "      <td>21.1</td>\n",
              "      <td>26.7</td>\n",
              "      <td>0.0</td>\n",
              "      <td>0.0</td>\n",
              "      <td>26.095</td>\n",
              "    </tr>\n",
              "    <tr>\n",
              "      <th>362</th>\n",
              "      <td>2015-12-29</td>\n",
              "      <td>21.68</td>\n",
              "      <td>20.3</td>\n",
              "      <td>24.1</td>\n",
              "      <td>10.3</td>\n",
              "      <td>0.0</td>\n",
              "      <td>22.309</td>\n",
              "    </tr>\n",
              "    <tr>\n",
              "      <th>363</th>\n",
              "      <td>2015-12-30</td>\n",
              "      <td>21.38</td>\n",
              "      <td>19.3</td>\n",
              "      <td>22.4</td>\n",
              "      <td>6.3</td>\n",
              "      <td>0.0</td>\n",
              "      <td>20.467</td>\n",
              "    </tr>\n",
              "    <tr>\n",
              "      <th>364</th>\n",
              "      <td>2015-12-31</td>\n",
              "      <td>24.76</td>\n",
              "      <td>20.2</td>\n",
              "      <td>29.0</td>\n",
              "      <td>0.0</td>\n",
              "      <td>0.0</td>\n",
              "      <td>22.446</td>\n",
              "    </tr>\n",
              "  </tbody>\n",
              "</table>\n",
              "<p>365 rows × 7 columns</p>\n",
              "</div>"
            ],
            "text/plain": [
              "          Data  ...  Consumo de cerveja (litros)\n",
              "0   2015-01-01  ...                       25.461\n",
              "1   2015-01-02  ...                       28.972\n",
              "2   2015-01-03  ...                       30.814\n",
              "3   2015-01-04  ...                       29.799\n",
              "4   2015-01-05  ...                       28.900\n",
              "..         ...  ...                          ...\n",
              "360 2015-12-27  ...                       32.307\n",
              "361 2015-12-28  ...                       26.095\n",
              "362 2015-12-29  ...                       22.309\n",
              "363 2015-12-30  ...                       20.467\n",
              "364 2015-12-31  ...                       22.446\n",
              "\n",
              "[365 rows x 7 columns]"
            ]
          },
          "metadata": {
            "tags": []
          },
          "execution_count": 508
        }
      ]
    },
    {
      "cell_type": "code",
      "metadata": {
        "id": "8d7VAZTyhWie",
        "colab_type": "code",
        "outputId": "c09ef611-7f32-43ea-e050-2e8e581d9a30",
        "colab": {
          "base_uri": "https://localhost:8080/",
          "height": 669
        }
      },
      "source": [
        "## verificando a correlação entre as variáveis\n",
        "plt.figure(figsize=(15,9))\n",
        "sns.heatmap(df.corr(),annot=True,vmin=-1,vmax=1,cmap='coolwarm')\n",
        "plt.show()\n"
      ],
      "execution_count": 509,
      "outputs": [
        {
          "output_type": "display_data",
          "data": {
            "image/png": "[encoded data removed]",
            "text/plain": [
              "<Figure size 1080x648 with 2 Axes>"
            ]
          },
          "metadata": {
            "tags": [],
            "needs_background": "light"
          }
        }
      ]
    },
    {
      "cell_type": "code",
      "metadata": {
        "id": "VtLRDT05ikLE",
        "colab_type": "code",
        "colab": {}
      },
      "source": [
        "#  Feature Engineering\n",
        "#  criando nova coluna com o dia da semana \n",
        "#  Segunda-feira : 0\n",
        "#  Terça-feira : 1\n",
        "#  Quarta-feira : 2\n",
        "#  Quinta-Feira : 3\n",
        "#  Sexta-feira : 4\n",
        "#  Sábado : 5\n",
        "#  Domingo : 6\n",
        "df['dia_semana'] =  df['Data'].dt.dayofweek"
      ],
      "execution_count": 0,
      "outputs": []
    },
    {
      "cell_type": "code",
      "metadata": {
        "id": "9kmZC1WykzeL",
        "colab_type": "code",
        "outputId": "d4f46a5b-5c15-4194-be90-6afeb06e28ad",
        "colab": {
          "base_uri": "https://localhost:8080/",
          "height": 419
        }
      },
      "source": [
        "df"
      ],
      "execution_count": 511,
      "outputs": [
        {
          "output_type": "execute_result",
          "data": {
            "text/html": [
              "<div>\n",
              "<style scoped>\n",
              "    .dataframe tbody tr th:only-of-type {\n",
              "        vertical-align: middle;\n",
              "    }\n",
              "\n",
              "    .dataframe tbody tr th {\n",
              "        vertical-align: top;\n",
              "    }\n",
              "\n",
              "    .dataframe thead th {\n",
              "        text-align: right;\n",
              "    }\n",
              "</style>\n",
              "<table border=\"1\" class=\"dataframe\">\n",
              "  <thead>\n",
              "    <tr style=\"text-align: right;\">\n",
              "      <th></th>\n",
              "      <th>Data</th>\n",
              "      <th>Temperatura Media (C)</th>\n",
              "      <th>Temperatura Minima (C)</th>\n",
              "      <th>Temperatura Maxima (C)</th>\n",
              "      <th>Precipitacao (mm)</th>\n",
              "      <th>Final de Semana</th>\n",
              "      <th>Consumo de cerveja (litros)</th>\n",
              "      <th>dia_semana</th>\n",
              "    </tr>\n",
              "  </thead>\n",
              "  <tbody>\n",
              "    <tr>\n",
              "      <th>0</th>\n",
              "      <td>2015-01-01</td>\n",
              "      <td>27.30</td>\n",
              "      <td>23.9</td>\n",
              "      <td>32.5</td>\n",
              "      <td>0.0</td>\n",
              "      <td>0.0</td>\n",
              "      <td>25.461</td>\n",
              "      <td>3</td>\n",
              "    </tr>\n",
              "    <tr>\n",
              "      <th>1</th>\n",
              "      <td>2015-01-02</td>\n",
              "      <td>27.02</td>\n",
              "      <td>24.5</td>\n",
              "      <td>33.5</td>\n",
              "      <td>0.0</td>\n",
              "      <td>0.0</td>\n",
              "      <td>28.972</td>\n",
              "      <td>4</td>\n",
              "    </tr>\n",
              "    <tr>\n",
              "      <th>2</th>\n",
              "      <td>2015-01-03</td>\n",
              "      <td>24.82</td>\n",
              "      <td>22.4</td>\n",
              "      <td>29.9</td>\n",
              "      <td>0.0</td>\n",
              "      <td>1.0</td>\n",
              "      <td>30.814</td>\n",
              "      <td>5</td>\n",
              "    </tr>\n",
              "    <tr>\n",
              "      <th>3</th>\n",
              "      <td>2015-01-04</td>\n",
              "      <td>23.98</td>\n",
              "      <td>21.5</td>\n",
              "      <td>28.6</td>\n",
              "      <td>1.2</td>\n",
              "      <td>1.0</td>\n",
              "      <td>29.799</td>\n",
              "      <td>6</td>\n",
              "    </tr>\n",
              "    <tr>\n",
              "      <th>4</th>\n",
              "      <td>2015-01-05</td>\n",
              "      <td>23.82</td>\n",
              "      <td>21.0</td>\n",
              "      <td>28.3</td>\n",
              "      <td>0.0</td>\n",
              "      <td>0.0</td>\n",
              "      <td>28.900</td>\n",
              "      <td>0</td>\n",
              "    </tr>\n",
              "    <tr>\n",
              "      <th>...</th>\n",
              "      <td>...</td>\n",
              "      <td>...</td>\n",
              "      <td>...</td>\n",
              "      <td>...</td>\n",
              "      <td>...</td>\n",
              "      <td>...</td>\n",
              "      <td>...</td>\n",
              "      <td>...</td>\n",
              "    </tr>\n",
              "    <tr>\n",
              "      <th>360</th>\n",
              "      <td>2015-12-27</td>\n",
              "      <td>24.00</td>\n",
              "      <td>21.1</td>\n",
              "      <td>28.2</td>\n",
              "      <td>13.6</td>\n",
              "      <td>1.0</td>\n",
              "      <td>32.307</td>\n",
              "      <td>6</td>\n",
              "    </tr>\n",
              "    <tr>\n",
              "      <th>361</th>\n",
              "      <td>2015-12-28</td>\n",
              "      <td>22.64</td>\n",
              "      <td>21.1</td>\n",
              "      <td>26.7</td>\n",
              "      <td>0.0</td>\n",
              "      <td>0.0</td>\n",
              "      <td>26.095</td>\n",
              "      <td>0</td>\n",
              "    </tr>\n",
              "    <tr>\n",
              "      <th>362</th>\n",
              "      <td>2015-12-29</td>\n",
              "      <td>21.68</td>\n",
              "      <td>20.3</td>\n",
              "      <td>24.1</td>\n",
              "      <td>10.3</td>\n",
              "      <td>0.0</td>\n",
              "      <td>22.309</td>\n",
              "      <td>1</td>\n",
              "    </tr>\n",
              "    <tr>\n",
              "      <th>363</th>\n",
              "      <td>2015-12-30</td>\n",
              "      <td>21.38</td>\n",
              "      <td>19.3</td>\n",
              "      <td>22.4</td>\n",
              "      <td>6.3</td>\n",
              "      <td>0.0</td>\n",
              "      <td>20.467</td>\n",
              "      <td>2</td>\n",
              "    </tr>\n",
              "    <tr>\n",
              "      <th>364</th>\n",
              "      <td>2015-12-31</td>\n",
              "      <td>24.76</td>\n",
              "      <td>20.2</td>\n",
              "      <td>29.0</td>\n",
              "      <td>0.0</td>\n",
              "      <td>0.0</td>\n",
              "      <td>22.446</td>\n",
              "      <td>3</td>\n",
              "    </tr>\n",
              "  </tbody>\n",
              "</table>\n",
              "<p>365 rows × 8 columns</p>\n",
              "</div>"
            ],
            "text/plain": [
              "          Data  Temperatura Media (C)  ...  Consumo de cerveja (litros)  dia_semana\n",
              "0   2015-01-01                  27.30  ...                       25.461           3\n",
              "1   2015-01-02                  27.02  ...                       28.972           4\n",
              "2   2015-01-03                  24.82  ...                       30.814           5\n",
              "3   2015-01-04                  23.98  ...                       29.799           6\n",
              "4   2015-01-05                  23.82  ...                       28.900           0\n",
              "..         ...                    ...  ...                          ...         ...\n",
              "360 2015-12-27                  24.00  ...                       32.307           6\n",
              "361 2015-12-28                  22.64  ...                       26.095           0\n",
              "362 2015-12-29                  21.68  ...                       22.309           1\n",
              "363 2015-12-30                  21.38  ...                       20.467           2\n",
              "364 2015-12-31                  24.76  ...                       22.446           3\n",
              "\n",
              "[365 rows x 8 columns]"
            ]
          },
          "metadata": {
            "tags": []
          },
          "execution_count": 511
        }
      ]
    },
    {
      "cell_type": "code",
      "metadata": {
        "id": "x2AWlK4UlGqK",
        "colab_type": "code",
        "outputId": "a25b5c62-a278-44e1-ba69-4895a193c8e2",
        "colab": {
          "base_uri": "https://localhost:8080/",
          "height": 430
        }
      },
      "source": [
        "## qual dia se tem a maior média de cervaja ?\n",
        "df.groupby(['dia_semana'])['Consumo de cerveja (litros)'].mean().plot(kind='bar')\n",
        "print(df.groupby(['dia_semana'])['Consumo de cerveja (litros)'].mean())    \n"
      ],
      "execution_count": 512,
      "outputs": [
        {
          "output_type": "stream",
          "text": [
            "dia_semana\n",
            "0    23.609635\n",
            "1    24.355154\n",
            "2    23.810385\n",
            "3    24.076547\n",
            "4    24.137885\n",
            "5    28.837923\n",
            "6    29.007519\n",
            "Name: Consumo de cerveja (litros), dtype: float64\n"
          ],
          "name": "stdout"
        },
        {
          "output_type": "display_data",
          "data": {
            "image/png": "[encoded data removed]",
            "text/plain": [
              "<Figure size 432x288 with 1 Axes>"
            ]
          },
          "metadata": {
            "tags": [],
            "needs_background": "light"
          }
        }
      ]
    },
    {
      "cell_type": "markdown",
      "metadata": {
        "id": "vUKTC-7moX_k",
        "colab_type": "text"
      },
      "source": [
        "<h2>Algoritmo de predição - Regressão</h2>\n",
        "<h3>Temperatura alta influência na quantidade de cerveja ingerida ? </h3>"
      ]
    },
    {
      "cell_type": "code",
      "metadata": {
        "id": "eZPTWZXNowhY",
        "colab_type": "code",
        "outputId": "a151ad90-ce76-4426-ceea-cd0aa172b076",
        "colab": {
          "base_uri": "https://localhost:8080/",
          "height": 51
        }
      },
      "source": [
        "## separando dataset\n",
        "##x =  df.drop(['Data', 'Consumo de cerveja (litros)','Temperatura Minima (C)','Temperatura Maxima (C)','Precipitacao (mm)','Final de Semana','dia_semana'], axis=1)\n",
        "x =  df['Temperatura Maxima (C)'].values.reshape(-1,1)\n",
        "y = df['Consumo de cerveja (litros)'].values.reshape(-1, 1)\n",
        "x_train, x_test, y_train, y_test = train_test_split(x,y,test_size=0.20,random_state=42)\n",
        "print(x_train.shape,y_train.shape)\n",
        "print(x_test.shape,y_test.shape)\n"
      ],
      "execution_count": 513,
      "outputs": [
        {
          "output_type": "stream",
          "text": [
            "(292, 1) (292, 1)\n",
            "(73, 1) (73, 1)\n"
          ],
          "name": "stdout"
        }
      ]
    },
    {
      "cell_type": "code",
      "metadata": {
        "id": "ugoAQW2ksXTB",
        "colab_type": "code",
        "outputId": "ff8d3ba8-be3e-4fe3-ebb7-3522397bb833",
        "colab": {
          "base_uri": "https://localhost:8080/",
          "height": 34
        }
      },
      "source": [
        "## treinando modelo\n",
        "lr = LinearRegression()\n",
        "lr.fit(x_train,y_train)\n",
        "lr.coef_"
      ],
      "execution_count": 514,
      "outputs": [
        {
          "output_type": "execute_result",
          "data": {
            "text/plain": [
              "array([[0.63376681]])"
            ]
          },
          "metadata": {
            "tags": []
          },
          "execution_count": 514
        }
      ]
    },
    {
      "cell_type": "code",
      "metadata": {
        "id": "NsuhlHewtbyh",
        "colab_type": "code",
        "outputId": "eba0190c-39fe-400b-d8c9-c98d989cacf3",
        "colab": {
          "base_uri": "https://localhost:8080/",
          "height": 34
        }
      },
      "source": [
        "## MSE- Quanto maior, maior o erro\n",
        "y_pred = lr.predict(x_test)\n",
        "mean_squared_error(y_test,y_pred)\n"
      ],
      "execution_count": 515,
      "outputs": [
        {
          "output_type": "execute_result",
          "data": {
            "text/plain": [
              "13.752758552219206"
            ]
          },
          "metadata": {
            "tags": []
          },
          "execution_count": 515
        }
      ]
    },
    {
      "cell_type": "code",
      "metadata": {
        "id": "39Aj2rjQuZxG",
        "colab_type": "code",
        "outputId": "6f5b2d71-02f4-4e3f-db8c-984da8d91b88",
        "colab": {
          "base_uri": "https://localhost:8080/",
          "height": 34
        }
      },
      "source": [
        "## RMSE - Raiz quadrada do MSE\n",
        "np.sqrt(mean_squared_error(y_test,y_pred))"
      ],
      "execution_count": 516,
      "outputs": [
        {
          "output_type": "execute_result",
          "data": {
            "text/plain": [
              "3.7084711879990664"
            ]
          },
          "metadata": {
            "tags": []
          },
          "execution_count": 516
        }
      ]
    },
    {
      "cell_type": "code",
      "metadata": {
        "id": "gTtQjHVZujuD",
        "colab_type": "code",
        "outputId": "23e66150-fa2e-4b83-b9ba-45a79785e025",
        "colab": {
          "base_uri": "https://localhost:8080/",
          "height": 34
        }
      },
      "source": [
        "## r2 - Modelo explica 37% dos resultados de teste\n",
        "lr.score(x_test,y_test)"
      ],
      "execution_count": 517,
      "outputs": [
        {
          "output_type": "execute_result",
          "data": {
            "text/plain": [
              "0.37936232376028123"
            ]
          },
          "metadata": {
            "tags": []
          },
          "execution_count": 517
        }
      ]
    },
    {
      "cell_type": "code",
      "metadata": {
        "id": "VouULahfOjDW",
        "colab_type": "code",
        "colab": {
          "base_uri": "https://localhost:8080/",
          "height": 34
        },
        "outputId": "37a17d08-594f-4696-89c3-32f5250763c3"
      },
      "source": [
        "## r2 - Modelo explica 41% dos resultados de treino\n",
        "lr.score(x_train,y_train)"
      ],
      "execution_count": 518,
      "outputs": [
        {
          "output_type": "execute_result",
          "data": {
            "text/plain": [
              "0.4130821613265998"
            ]
          },
          "metadata": {
            "tags": []
          },
          "execution_count": 518
        }
      ]
    },
    {
      "cell_type": "markdown",
      "metadata": {
        "id": "DA2f6m4YO8NA",
        "colab_type": "text"
      },
      "source": [
        "<h3>Dado ao resultado de do r2 de 0.3793, o modelo utilizando apenas a variável de temperatura máxima é considerado um modelo underfit</h3>"
      ]
    },
    {
      "cell_type": "code",
      "metadata": {
        "id": "q4ivIS4uv5UK",
        "colab_type": "code",
        "outputId": "2fb9ec30-509a-43c6-e0a2-80f675fd57d3",
        "colab": {
          "base_uri": "https://localhost:8080/",
          "height": 553
        }
      },
      "source": [
        "## plotando gráfico\n",
        "plt.figure(figsize=(15,9))\n",
        "plt.scatter(x_test, y_test, color = \"green\", label='Teste')\n",
        "plt.plot(x_test, lr.predict(x_test), color = \"green\")\n",
        "plt.scatter(x_train, y_train, color = \"red\", label='Treino')\n",
        "plt.plot(x_train, lr.predict(x_train), color = \"red\",alpha=0.6)\n",
        "plt.title(\"Regressão de treino e teste\")\n",
        "plt.legend(fancybox=True, framealpha=1, shadow=True, borderpad=1)\n",
        "plt.show()"
      ],
      "execution_count": 519,
      "outputs": [
        {
          "output_type": "display_data",
          "data": {
            "image/png": "[encoded data removed]",
            "text/plain": [
              "<Figure size 1080x648 with 1 Axes>"
            ]
          },
          "metadata": {
            "tags": [],
            "needs_background": "light"
          }
        }
      ]
    },
    {
      "cell_type": "code",
      "metadata": {
        "id": "b908bZBqMzCE",
        "colab_type": "code",
        "outputId": "7e3a99cc-1bc1-49ff-c7f3-2c76ded1b6bc",
        "colab": {
          "base_uri": "https://localhost:8080/",
          "height": 34
        }
      },
      "source": [
        "##Predizendo a quantidade de litros de cerveja consumidos para um dia de quinta, que não chova e que faça 35 grau\n",
        "lr.predict([[35]])"
      ],
      "execution_count": 520,
      "outputs": [
        {
          "output_type": "execute_result",
          "data": {
            "text/plain": [
              "array([[30.58422272]])"
            ]
          },
          "metadata": {
            "tags": []
          },
          "execution_count": 520
        }
      ]
    },
    {
      "cell_type": "markdown",
      "metadata": {
        "id": "ZA3NWiIZH38_",
        "colab_type": "text"
      },
      "source": [
        "<h3>Temperatura alta, precipitação e dia da semana influência na quantidade de cerveja ingerida  ?</h3>"
      ]
    },
    {
      "cell_type": "code",
      "metadata": {
        "id": "bfY5Cdwkxn89",
        "colab_type": "code",
        "outputId": "638baa96-8263-4a69-c2b9-83c568c95da7",
        "colab": {
          "base_uri": "https://localhost:8080/",
          "height": 51
        }
      },
      "source": [
        "## utilizando também Precipitacao (mm) e dia_semana\n",
        "## separando dataset\n",
        "x =  df.drop(['Data', 'Consumo de cerveja (litros)','Temperatura Minima (C)','Temperatura Media (C)',], axis=1)\n",
        "y = df['Consumo de cerveja (litros)']\n",
        "x_train, x_test, y_train, y_test = train_test_split(x,y,test_size=0.20,random_state=42)\n",
        "print(x_train.shape,y_train.shape)\n",
        "print(x_test.shape,y_test.shape)"
      ],
      "execution_count": 521,
      "outputs": [
        {
          "output_type": "stream",
          "text": [
            "(292, 4) (292,)\n",
            "(73, 4) (73,)\n"
          ],
          "name": "stdout"
        }
      ]
    },
    {
      "cell_type": "code",
      "metadata": {
        "id": "DTJdi5rAICwF",
        "colab_type": "code",
        "outputId": "7e9c5b15-3dd0-4b1a-97d1-b4b23448c72d",
        "colab": {
          "base_uri": "https://localhost:8080/",
          "height": 34
        }
      },
      "source": [
        "## treinando modelo\n",
        "lr = LinearRegression()\n",
        "lr.fit(x_train,y_train)\n",
        "lr.coef_"
      ],
      "execution_count": 522,
      "outputs": [
        {
          "output_type": "execute_result",
          "data": {
            "text/plain": [
              "array([ 6.68591271e-01, -4.38340796e-02,  5.16815228e+00, -3.78528967e-03])"
            ]
          },
          "metadata": {
            "tags": []
          },
          "execution_count": 522
        }
      ]
    },
    {
      "cell_type": "code",
      "metadata": {
        "id": "hY18vYBIWNt7",
        "colab_type": "code",
        "colab": {
          "base_uri": "https://localhost:8080/",
          "height": 484
        },
        "outputId": "044f829a-8fd7-49ad-b28a-fa7cc945cbb5"
      },
      "source": [
        "## verificando os pesos\n",
        "\n",
        "plt.figure(figsize=(10,8))\n",
        "sns.barplot(x = x_train.columns,y = lr.coef_)\n",
        "plt.show()"
      ],
      "execution_count": 523,
      "outputs": [
        {
          "output_type": "display_data",
          "data": {
            "image/png": "[encoded data removed]",
            "text/plain": [
              "<Figure size 720x576 with 1 Axes>"
            ]
          },
          "metadata": {
            "tags": [],
            "needs_background": "light"
          }
        }
      ]
    },
    {
      "cell_type": "markdown",
      "metadata": {
        "id": "YQXS75v4WmaT",
        "colab_type": "text"
      },
      "source": [
        "<h3>É possível observar que as variáveis com o maior peso no modelo são Final de Semana e Temperatura máxima.</h3>"
      ]
    },
    {
      "cell_type": "code",
      "metadata": {
        "id": "yJ8u6FDYIFug",
        "colab_type": "code",
        "outputId": "d7f2e892-7e5a-47b9-deeb-4a4a5e961db1",
        "colab": {
          "base_uri": "https://localhost:8080/",
          "height": 34
        }
      },
      "source": [
        "## MSE - Quanto maior, maior o erro\n",
        "y_pred = lr.predict(x_test)\n",
        "mean_squared_error(y_test,y_pred)\n"
      ],
      "execution_count": 524,
      "outputs": [
        {
          "output_type": "execute_result",
          "data": {
            "text/plain": [
              "5.664066966602874"
            ]
          },
          "metadata": {
            "tags": []
          },
          "execution_count": 524
        }
      ]
    },
    {
      "cell_type": "markdown",
      "metadata": {
        "id": "N9-jCRKnPvgf",
        "colab_type": "text"
      },
      "source": [
        "<h3>Após aplicar mais variáveis o MSE reduziu de 13.7527 para 5.6640, demonstrando que o novo modelo texe uma taxa de erro bem menos que o primeiro</h3>"
      ]
    },
    {
      "cell_type": "code",
      "metadata": {
        "id": "Aar-b_VLIHM1",
        "colab_type": "code",
        "outputId": "f2c3085d-22c2-407f-b5ea-135814f5509b",
        "colab": {
          "base_uri": "https://localhost:8080/",
          "height": 34
        }
      },
      "source": [
        "## RMSE -  Raiz quadrada do MSE\n",
        "np.sqrt(mean_squared_error(y_test,y_pred))"
      ],
      "execution_count": 525,
      "outputs": [
        {
          "output_type": "execute_result",
          "data": {
            "text/plain": [
              "2.379930033972191"
            ]
          },
          "metadata": {
            "tags": []
          },
          "execution_count": 525
        }
      ]
    },
    {
      "cell_type": "code",
      "metadata": {
        "id": "rEP-3bJcTXGR",
        "colab_type": "code",
        "colab": {
          "base_uri": "https://localhost:8080/",
          "height": 34
        },
        "outputId": "a5a1d0ce-139f-4a8c-9780-563e43a8b400"
      },
      "source": [
        "## r2 - Modelo explica 71% dos resultados de treino\n",
        "lr.score(x_train,y_train)"
      ],
      "execution_count": 526,
      "outputs": [
        {
          "output_type": "execute_result",
          "data": {
            "text/plain": [
              "0.7101386044899705"
            ]
          },
          "metadata": {
            "tags": []
          },
          "execution_count": 526
        }
      ]
    },
    {
      "cell_type": "code",
      "metadata": {
        "id": "tYOfnRouIJS0",
        "colab_type": "code",
        "outputId": "4e93ff94-6318-4c8d-f2cc-210120d1e555",
        "colab": {
          "base_uri": "https://localhost:8080/",
          "height": 34
        }
      },
      "source": [
        "## r2 - Modelo explica 74% dos resultados de teste\n",
        "lr.score(x_test,y_test)"
      ],
      "execution_count": 527,
      "outputs": [
        {
          "output_type": "execute_result",
          "data": {
            "text/plain": [
              "0.7443906728333196"
            ]
          },
          "metadata": {
            "tags": []
          },
          "execution_count": 527
        }
      ]
    },
    {
      "cell_type": "markdown",
      "metadata": {
        "id": "337_yFYaPNUl",
        "colab_type": "text"
      },
      "source": [
        "<h3>Dado ao resultado de do r2 de 0.7443, o modelo utilizando múltiplas variáveis explicativas, diferentemente do primeiro modelo apresentado não pode ser considerado um underfit</h3>"
      ]
    },
    {
      "cell_type": "code",
      "metadata": {
        "id": "Uvy6ULMPJGhQ",
        "colab_type": "code",
        "outputId": "5c3625fb-d306-4594-d2c9-6c28c23f2883",
        "colab": {
          "base_uri": "https://localhost:8080/",
          "height": 34
        }
      },
      "source": [
        "## Predizendo a quantidade de litros de cerveja consumidos para um dia de quinta, que não chova e que faça 35 graus\n",
        "lr.predict([[35,0,0,3]])"
      ],
      "execution_count": 528,
      "outputs": [
        {
          "output_type": "execute_result",
          "data": {
            "text/plain": [
              "array([29.76227092])"
            ]
          },
          "metadata": {
            "tags": []
          },
          "execution_count": 528
        }
      ]
    },
    {
      "cell_type": "markdown",
      "metadata": {
        "id": "t7vhE5POOHa1",
        "colab_type": "text"
      },
      "source": [
        "<h2>O modelo com mais variáveis explicou melhor os dados existentes, tendo menor MSE, RMSE e maior r2. Essas métricas mostram que o modelo com multiplas váriaveis é melhor que o com apenas uma variável</h2>"
      ]
    }
  ]
}